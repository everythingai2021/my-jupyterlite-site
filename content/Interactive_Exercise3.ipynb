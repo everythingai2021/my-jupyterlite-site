{
  "nbformat": 4,
  "nbformat_minor": 0,
  "metadata": {
    "colab": {
      "provenance": []
    },
    "kernelspec": {
      "name": "python3",
      "display_name": "Python 3"
    },
    "language_info": {
      "name": "python"
    }
  },
  "cells": [
    {
      "cell_type": "markdown",
      "source": [
        "# Guess the Word\n",
        "\n",
        "Get ready to play Guess the Word — a fun word puzzle game! 🎯\n",
        "You’ll guess one letter at a time, see which ones are right, and try to figure out the whole word before the game ends!\n",
        "\n",
        "# What You'll Do:\n",
        "1. Set up the word list\n",
        "2. Guess letters one at a time\n",
        "3. See which letters are correct\n",
        "4. Win by guessing the full word\n",
        "\n",
        "# What You'll Learn:\n",
        "1. How to work with lists and strings\n",
        "2. How to check if a letter is in a word\n",
        "3. How to update and display game progress"
      ],
      "metadata": {
        "id": "rbaipqSSRrgM"
      }
    },
    {
      "cell_type": "markdown",
      "source": [
        "### Level 1: Game Setup\n",
        "Let's pick a secret word and get ready to play!"
      ],
      "metadata": {
        "id": "NK6gPZ-PcxYj"
      }
    },
    {
      "cell_type": "code",
      "source": [
        "import random\n",
        "\n",
        "words = [\"APPLE\", \"SUNNY\", \"TIGER\", \"HAPPY\", \"MUSIC\", \"PIZZA\", \"GRASS\", \"WATER\"]\n",
        "secret_word = random.choice(words)\n",
        "blanks = [\"_\"] * len(secret_word)"
      ],
      "metadata": {
        "id": "Y-u2Y5G6R38z"
      },
      "execution_count": 2,
      "outputs": []
    },
    {
      "cell_type": "markdown",
      "source": [
        "### Level 2: Make Guesses\n",
        "Guess one letter at a time!"
      ],
      "metadata": {
        "id": "rRknQXnDdefD"
      }
    },
    {
      "cell_type": "code",
      "source": [
        "while \"_\" in blanks:\n",
        "    print(\"\\nWord:\", \" \".join(blanks))\n",
        "    guess = input(\"Guess a letter: \").upper()\n",
        "\n",
        "\n",
        "    if guess in secret_word:\n",
        "        print(\"Great guess!\")\n",
        "\n",
        "        for i in range(len(secret_word)):\n",
        "            if secret_word[i] == guess:\n",
        "                blanks[i] = guess\n",
        "    else:\n",
        "        print(\"Oops, try again!\")"
      ],
      "metadata": {
        "id": "s4bbUcoidih9",
        "colab": {
          "base_uri": "https://localhost:8080/"
        },
        "outputId": "213dc085-7e23-494c-d786-50c0850a6acb"
      },
      "execution_count": 3,
      "outputs": [
        {
          "output_type": "stream",
          "name": "stdout",
          "text": [
            "\n",
            "Word: _ _ _ _ _\n",
            "Guess a letter: y\n",
            "Great guess!\n",
            "\n",
            "Word: _ _ _ _ Y\n",
            "Guess a letter: p\n",
            "Oops, try again!\n",
            "\n",
            "Word: _ _ _ _ Y\n",
            "Guess a letter: n\n",
            "Great guess!\n",
            "\n",
            "Word: _ _ N N Y\n",
            "Guess a letter: u\n",
            "Great guess!\n",
            "\n",
            "Word: _ U N N Y\n",
            "Guess a letter: s\n",
            "Great guess!\n"
          ]
        }
      ]
    },
    {
      "cell_type": "markdown",
      "source": [
        "###Level 3: You Won!\n",
        "See the secret word!"
      ],
      "metadata": {
        "id": "yYBjDSaBdoRA"
      }
    },
    {
      "cell_type": "code",
      "source": [
        "print(f\"🏆 You won! The word was {secret_word}\")"
      ],
      "metadata": {
        "id": "nkg0nlnYd5VC",
        "colab": {
          "base_uri": "https://localhost:8080/"
        },
        "outputId": "4853c0bd-4507-4618-9b34-19b3101115ee"
      },
      "execution_count": 4,
      "outputs": [
        {
          "output_type": "stream",
          "name": "stdout",
          "text": [
            "🏆 You won! The word was SUNNY\n"
          ]
        }
      ]
    }
  ]
}