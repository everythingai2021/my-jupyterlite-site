{
  "nbformat": 4,
  "nbformat_minor": 0,
  "metadata": {
    "colab": {
      "provenance": []
    },
    "kernelspec": {
      "name": "python3",
      "display_name": "Python 3"
    },
    "language_info": {
      "name": "python"
    }
  },
  "cells": [
    {
      "cell_type": "markdown",
      "source": [
        "# Snakes and Ladders\n",
        "Get ready to play Snakes and Ladders — you’re in charge! 🎲 Roll the dice, go up the ladders 🪜, watch out for snakes 🐍, and try to reach square 100 first!\n",
        "\n",
        "#What You'll Do:\n",
        "1. Set up the game board with snakes and ladders\n",
        "2. Roll the dice each turn\n",
        "3. Move your token and check for snakes/ladders\n",
        "4. Reach position 100 to win\n",
        "\n",
        "#What You'll Learn:\n",
        "1. How to use tuples to store fixed positions\n",
        "2. How to move a player piece\n",
        "3. How to check conditions using loops"
      ],
      "metadata": {
        "id": "rbaipqSSRrgM"
      }
    },
    {
      "cell_type": "markdown",
      "source": [
        "### Level 1: Game Setup\n",
        "Create the snakes and ladders positions."
      ],
      "metadata": {
        "id": "NK6gPZ-PcxYj"
      }
    },
    {
      "cell_type": "code",
      "source": [
        "import random\n",
        "\n",
        "snakes = ((16, 6), (47, 26), (49, 11), (56, 53), (62, 19))\n",
        "ladders = ((1, 38), (4, 14), (9, 21), (28, 84), (36, 44))\n",
        "player_position = 0"
      ],
      "metadata": {
        "id": "Y-u2Y5G6R38z"
      },
      "execution_count": 2,
      "outputs": []
    },
    {
      "cell_type": "markdown",
      "source": [
        "### Level 2: Movement Rules\n",
        "Check if a position has a snake or ladder."
      ],
      "metadata": {
        "id": "rRknQXnDdefD"
      }
    },
    {
      "cell_type": "code",
      "source": [
        "def check_position(current_pos):\n",
        "\n",
        "    # Check for snakes\n",
        "    for start, end in snakes:\n",
        "        if current_pos == start:\n",
        "            return end, \"snake\"\n",
        "\n",
        "    # Check for ladders\n",
        "    for start, end in ladders:\n",
        "        if current_pos == start:\n",
        "            return end, \"ladder\"\n",
        "\n",
        "    return current_pos, \"normal\"\n"
      ],
      "metadata": {
        "id": "s4bbUcoidih9"
      },
      "execution_count": 3,
      "outputs": []
    },
    {
      "cell_type": "markdown",
      "source": [
        "### Level 3: Game Rounds\n",
        "Play turns until reaching position 100."
      ],
      "metadata": {
        "id": "yYBjDSaBdoRA"
      }
    },
    {
      "cell_type": "code",
      "source": [
        "while player_position < 100:\n",
        "    input(\"Press Enter to roll dice...\")\n",
        "\n",
        "    dice_roll = random.randint(1, 6)\n",
        "    print(f\"You rolled: {dice_roll}\")\n",
        "\n",
        "    new_position = player_position + dice_roll\n",
        "\n",
        "    if new_position <= 100:\n",
        "        player_position = new_position\n",
        "        final_pos, spot_type = check_position(player_position)\n",
        "\n",
        "        if spot_type == \"snake\":\n",
        "            player_position = final_pos\n",
        "            print(f\"Snake! Slide down to {player_position}\")\n",
        "        elif spot_type == \"ladder\":\n",
        "            player_position = final_pos\n",
        "            print(f\"Ladder! Climb up to {player_position}\")\n",
        "\n",
        "    print(f\"Current position: {player_position}\")"
      ],
      "metadata": {
        "id": "nkg0nlnYd5VC",
        "colab": {
          "base_uri": "https://localhost:8080/"
        },
        "outputId": "3a63a8c4-9665-4e31-91dc-86c858b303cc"
      },
      "execution_count": 4,
      "outputs": [
        {
          "output_type": "stream",
          "name": "stdout",
          "text": [
            "Press Enter to roll dice...\n",
            "You rolled: 3\n",
            "Current position: 3\n",
            "Press Enter to roll dice...\n",
            "You rolled: 2\n",
            "Current position: 5\n",
            "Press Enter to roll dice...\n",
            "You rolled: 4\n",
            "Ladder! Climb up to 21\n",
            "Current position: 21\n",
            "Press Enter to roll dice...\n",
            "You rolled: 2\n",
            "Current position: 23\n",
            "Press Enter to roll dice...\n",
            "You rolled: 3\n",
            "Current position: 26\n",
            "Press Enter to roll dice...\n",
            "You rolled: 2\n",
            "Ladder! Climb up to 84\n",
            "Current position: 84\n",
            "Press Enter to roll dice...\n",
            "You rolled: 2\n",
            "Current position: 86\n",
            "Press Enter to roll dice...\n",
            "You rolled: 2\n",
            "Current position: 88\n",
            "Press Enter to roll dice...\n",
            "You rolled: 4\n",
            "Current position: 92\n",
            "Press Enter to roll dice...\n",
            "You rolled: 3\n",
            "Current position: 95\n",
            "Press Enter to roll dice...\n",
            "You rolled: 1\n",
            "Current position: 96\n",
            "Press Enter to roll dice...\n",
            "You rolled: 3\n",
            "Current position: 99\n",
            "Press Enter to roll dice...\n",
            "You rolled: 6\n",
            "Current position: 99\n",
            "Press Enter to roll dice...\n",
            "You rolled: 4\n",
            "Current position: 99\n",
            "Press Enter to roll dice...\n",
            "You rolled: 1\n",
            "Current position: 100\n"
          ]
        }
      ]
    },
    {
      "cell_type": "markdown",
      "source": [
        "### Level 4: Game Results\n",
        "Show the final outcome."
      ],
      "metadata": {
        "id": "eq7tnaHbd7ZU"
      }
    },
    {
      "cell_type": "code",
      "source": [
        "print(\"Congratulations! You won the game!\")"
      ],
      "metadata": {
        "colab": {
          "base_uri": "https://localhost:8080/"
        },
        "id": "FHzJW45Jd_E3",
        "outputId": "4d347a5a-be61-4f0e-f8ba-62e097d994b7"
      },
      "execution_count": 5,
      "outputs": [
        {
          "output_type": "stream",
          "name": "stdout",
          "text": [
            "Congratulations! You won the game!\n"
          ]
        }
      ]
    }
  ]
}