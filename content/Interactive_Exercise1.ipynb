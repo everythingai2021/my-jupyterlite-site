{
  "nbformat": 4,
  "nbformat_minor": 0,
  "metadata": {
    "colab": {
      "provenance": []
    },
    "kernelspec": {
      "name": "python3",
      "display_name": "Python 3"
    },
    "language_info": {
      "name": "python"
    }
  },
  "cells": [
    {
      "cell_type": "markdown",
      "source": [
        "#Build Your Superhero\n",
        "\n",
        "You've entered the Hall of Heroes, a secret place where anyone can become a legend.\n",
        "To get your powers, you'll write code to build your own superhero.\n",
        "\n",
        "Pick a name, collect surprise powers, and level up.\n",
        "If you reach Level 3 or higher, something awesome might happen. 🤫\n",
        "\n",
        "\n",
        "#What You’ll Do: <br>\n",
        "1. Pick your hero’s name\n",
        "\n",
        "2. Open surprise power gifts (3 rounds!)\n",
        "\n",
        "3. Choose powers and level up\n",
        "\n",
        "4. See your final superhero\n",
        "\n",
        "5. Unlock a secret if you’re strong enough!\n",
        "\n",
        "#What You’ll Learn:<br>\n",
        "1. How to ask the player to type something\n",
        "\n",
        "2. How to save things in a list\n",
        "\n",
        "3. How to repeat code using a loop"
      ],
      "metadata": {
        "id": "rbaipqSSRrgM"
      }
    },
    {
      "cell_type": "markdown",
      "source": [
        "###Level 1: Choose Your Hero Name\n",
        "Ask the player to type a name for the hero and save it."
      ],
      "metadata": {
        "id": "NK6gPZ-PcxYj"
      }
    },
    {
      "cell_type": "code",
      "source": [
        "hero = {\n",
        "    \"name\": \"\",\n",
        "    \"level\": 1\n",
        "}\n",
        "\n",
        "hero[\"name\"] = input(\"Type your hero name: \")\n"
      ],
      "metadata": {
        "colab": {
          "base_uri": "https://localhost:8080/"
        },
        "id": "Y-u2Y5G6R38z",
        "outputId": "037e3437-d036-495c-e40e-506f9d1ba74f"
      },
      "execution_count": 6,
      "outputs": [
        {
          "name": "stdout",
          "output_type": "stream",
          "text": [
            "Type your hero name: superman\n"
          ]
        }
      ]
    },
    {
      "cell_type": "markdown",
      "source": [
        "###Level 2: Create the Powers List\n",
        "Make an empty list to store your hero’s powers."
      ],
      "metadata": {
        "id": "rRknQXnDdefD"
      }
    },
    {
      "cell_type": "code",
      "source": [
        "powers = []\n"
      ],
      "metadata": {
        "id": "s4bbUcoidih9"
      },
      "execution_count": 7,
      "outputs": []
    },
    {
      "cell_type": "markdown",
      "source": [
        "###Level 3: Surprise Powers\n",
        "Create a list of powers your hero can get."
      ],
      "metadata": {
        "id": "yYBjDSaBdoRA"
      }
    },
    {
      "cell_type": "code",
      "source": [
        "all_powers = [\"Flying\", \"Super Speed\", \"Invisible\", \"Fire Power\", \"Ice Power\"]\n"
      ],
      "metadata": {
        "id": "nkg0nlnYd5VC"
      },
      "execution_count": 8,
      "outputs": []
    },
    {
      "cell_type": "markdown",
      "source": [
        "###Level 4: Power Rounds\n",
        "Do 3 rounds. Each round gives a random power.\n",
        "The player can say yes or no. If yes, add the power and increase the level."
      ],
      "metadata": {
        "id": "eq7tnaHbd7ZU"
      }
    },
    {
      "cell_type": "code",
      "source": [
        "import random\n",
        "\n",
        "for round in range(3):\n",
        "    print(\"Round\", round + 1)\n",
        "\n",
        "    power = random.choice(all_powers)\n",
        "    print(\"Power:\", power)\n",
        "\n",
        "    choice = input(\"Keep this power? (yes/no): \")\n",
        "\n",
        "    if choice == \"yes\":\n",
        "        powers.append(power)\n",
        "        hero[\"level\"] += 1\n",
        "\n",
        "    print(\"Powers now:\", powers)\n",
        "    print(\"Level now:\", hero[\"level\"])\n"
      ],
      "metadata": {
        "colab": {
          "base_uri": "https://localhost:8080/"
        },
        "id": "FHzJW45Jd_E3",
        "outputId": "2e9f88b0-45a1-429d-d8a0-6c065ec1ff6d"
      },
      "execution_count": 9,
      "outputs": [
        {
          "output_type": "stream",
          "name": "stdout",
          "text": [
            "Round 1\n",
            "Power: Ice Power\n",
            "Keep this power? (yes/no): yes\n",
            "Powers now: ['Ice Power']\n",
            "Level now: 2\n",
            "Round 2\n",
            "Power: Fire Power\n",
            "Keep this power? (yes/no): yes\n",
            "Powers now: ['Ice Power', 'Fire Power']\n",
            "Level now: 3\n",
            "Round 3\n",
            "Power: Super Speed\n",
            "Keep this power? (yes/no): yes\n",
            "Powers now: ['Ice Power', 'Fire Power', 'Super Speed']\n",
            "Level now: 4\n"
          ]
        }
      ]
    },
    {
      "cell_type": "markdown",
      "source": [
        "###Level 5: Show Final Hero\n",
        "Print the hero’s name and how many powers they have."
      ],
      "metadata": {
        "id": "4Sb8NzKefDST"
      }
    },
    {
      "cell_type": "code",
      "source": [
        "print(\"Hero name:\", hero[\"name\"])\n",
        "print(\"Number of powers:\", len(powers))\n",
        "\n"
      ],
      "metadata": {
        "colab": {
          "base_uri": "https://localhost:8080/"
        },
        "id": "Ns_T_-YffKrQ",
        "outputId": "fcafff0f-965f-4701-dba8-aa32bbee456a"
      },
      "execution_count": 10,
      "outputs": [
        {
          "output_type": "stream",
          "name": "stdout",
          "text": [
            "Hero name: superman\n",
            "Number of powers: 3\n"
          ]
        }
      ]
    }
  ]
}